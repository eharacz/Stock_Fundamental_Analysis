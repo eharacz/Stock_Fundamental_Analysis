{
 "cells": [
  {
   "cell_type": "markdown",
   "metadata": {},
   "source": [
    "# Buy/Sell Decision Function"
   ]
  },
  {
   "cell_type": "code",
   "execution_count": 3,
   "metadata": {},
   "outputs": [],
   "source": [
    "import numpy as np\n",
    "import pandas as pd\n",
    "import numpy_financial as npf"
   ]
  },
  {
   "cell_type": "code",
   "execution_count": 7,
   "metadata": {},
   "outputs": [],
   "source": [
    "def price_it(ticker_list,discountrate, marginrate):\n",
    "    dfprice = pd.DataFrame(columns =['ticker','annualgrowthrate','last_eps','future_eps'])\n",
    "    for f in ticker_list:\n",
    "        agr =  f.eps_growth.mean()*.01 #growth rate\n",
    "        \n",
    "        last_eps = f.eps.mean()\n",
    "        \n",
    "        years  = 10 #period\n",
    "        \n",
    "        future_eps = abs(npf.fv(agr,years,0,last_eps))\n",
    "        \n",
    "\n",
    "        dfprice.loc[0] = [f.ticker[0],agr,last_eps,future_eps]\n",
    "         \n",
    "        min_eps= f.pe.min()\n",
    "\n",
    "        dfprice['pe_ratio'] = min_eps\n",
    "\n",
    "        dfprice['FV'] = dfprice['future_eps']*dfprice['pe_ratio']\n",
    "\n",
    "        #discountrate=.15 or .20\n",
    "        #margin=.15\n",
    "\n",
    "        ticker=f.ticker[0]\n",
    "        stock_pricing = data_pull(f'{ticker}') #\n",
    "        stock_price = stock_pricing['Close'] #\n",
    "        cur_stock_price = stock_price[0]\n",
    "        \n",
    "        \n",
    "        dfprice['PV'] = abs(npf.pv(discountrate,years,0,fv=dfprice['FV']))\n",
    "\n",
    "        if dfprice['FV'].values[0] > 0:\n",
    "            dfprice['marginprice'] = dfprice['PV']*(1-marginrate)\n",
    "        else:\n",
    "            dfprice['marginprice'] = 0\n",
    "\n",
    "        dfprice['lastshareprice']=cur_stock_price\n",
    "\n",
    "        print(dfprice)\n",
    "\n",
    "        if dfprice['lastshareprice'][0]<dfprice['marginprice'][0]:\n",
    "            dfprice['decision'] = 'Buy'\n",
    "        else: \n",
    "            dfprice['decision'] = 'Sell'\n",
    "\n",
    "        return dfprice"
   ]
  },
  {
   "cell_type": "code",
   "execution_count": null,
   "metadata": {},
   "outputs": [],
   "source": []
  }
 ],
 "metadata": {
  "kernelspec": {
   "display_name": "Python 3",
   "language": "python",
   "name": "python3"
  },
  "language_info": {
   "codemirror_mode": {
    "name": "ipython",
    "version": 3
   },
   "file_extension": ".py",
   "mimetype": "text/x-python",
   "name": "python",
   "nbconvert_exporter": "python",
   "pygments_lexer": "ipython3",
   "version": "3.7.4"
  }
 },
 "nbformat": 4,
 "nbformat_minor": 2
}
