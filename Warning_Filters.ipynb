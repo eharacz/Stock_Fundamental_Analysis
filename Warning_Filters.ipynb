{
 "cells": [
  {
   "cell_type": "code",
   "execution_count": null,
   "metadata": {},
   "outputs": [],
   "source": [
    "import pandas as pd\n",
    "import numpy as np\n",
    "import datetime\n",
    "import matplotlib.pyplot as plt\n",
    "%matplotlib inline\n",
    "import json\n",
    "import requests\n",
    "import time"
   ]
  },
  {
   "cell_type": "markdown",
   "metadata": {},
   "source": [
    "# Warning Signs List"
   ]
  },
  {
   "cell_type": "code",
   "execution_count": 1,
   "metadata": {},
   "outputs": [],
   "source": [
    "#BASE\n",
    "def value_logic_check(ticker,financial_df):\n",
    "    \n",
    "    egiblestock = True\n",
    "    reasonlist=[]\n",
    "\n",
    "    # print (financial_df)\n",
    "    # EPS increases over the year (consistent)\n",
    "    for growth in financial_df.epsgrowth:\n",
    "        if growth<0:\n",
    "            egiblestock = False\n",
    "            reasonlist.append('there is negative growth '+str(growth))\n",
    "            break\n",
    "    # ROE > 0.15\n",
    "    if financial_df.roe.mean()<0.13:\n",
    "            egiblestock = False\n",
    "            reasonlist.append('roe mean is less than 0.13 '+ str(dfformatted.roe.mean()))\n",
    "    # ROA > 0.07 (also consider debt to equity cause Assets = liabilities + equity)\n",
    "    if financial_df.roa.mean()<0.07:\n",
    "            egiblestock = False\n",
    "            reasonlist.append('roa mean is less than 0.07 ' + str(dfformatted.roa.mean()))\n",
    "    # Long term debt < 5 * income\n",
    "    if financial_df.longtermdebt.tail(1).values[0]>5*dfformatted.netincome.tail(1).values[0]:\n",
    "            legiblestock = False\n",
    "            reasonlist.append('longtermdebt is 5 times the netincome ')\n",
    "    # Interest Coverage Ratio > 3\n",
    "    if financial_df.interestcoverageratio.tail(1).values[0]<3:\n",
    "            egiblestock = False\n",
    "            reasonlist.append('Interestcoverageratio is less than 3 ')\n",
    "#     print ticker,egiblestock,reasonlist\n",
    "    return reasonlist\n"
   ]
  },
  {
   "cell_type": "code",
   "execution_count": 3,
   "metadata": {},
   "outputs": [],
   "source": [
    "#Modified\n",
    "def warnings(financial_dfs):\n",
    "    \n",
    "    eligiblestock = True\n",
    "    warninglist=[]\n",
    "  \n",
    "    for df in financial_dfs:\n",
    "        print(df.ticker.values[0])\n",
    "        display(df)\n",
    "        # EPS increases over the year (consistent)\n",
    "        for growth in df.eps_growth:\n",
    "            #print(growth)\n",
    "            if growth<0:\n",
    "                print('Growth Warning')\n",
    "                eligiblestock = False\n",
    "                warninglist.append('Negative Growth')\n",
    "                break\n",
    "        # ROE > 0.13\n",
    "        if df.roe.mean()<0.13:\n",
    "            print('ROE Warning')\n",
    "            eligiblestock = False\n",
    "            warninglist.append('ROE mean is insufficient')\n",
    "        # ROA > 0.07 (also consider debt to equity cause Assets = liabilities + equity)         \n",
    "        if df.roa.mean()<0.07:\n",
    "            print('ROA Warning')\n",
    "            eligiblestock = False\n",
    "            warninglist.append('ROA mean is insufficient')\n",
    "        # Long term debt < 5 * income\n",
    "        for ltd in df.longterm_debt.tail(1):\n",
    "            if ltd > 5*df.net_income.tail(1).values[0]:\n",
    "                print('Longterm Debt Warning')\n",
    "                eligiblestock = False\n",
    "                warninglist.append('Longterm Debt is too high compared to net income')\n",
    "        # Interest Coverage Ratio > 3\n",
    "        for icr in df.interestcoverageratio.tail(1):\n",
    "            if icr < 3:\n",
    "                print('Interest Coverage Ratio Warning')\n",
    "                eligiblestock = False\n",
    "                warninglist.append('Interest Coverage Ratio is insufficient.')\n",
    "        for peg in df.peg.tail(1):\n",
    "            if peg > 1:\n",
    "                print('PEG Warning')\n",
    "                eligiblestock = False\n",
    "                warninglist.append('PEG Ratio is insufficient.')\n",
    "        print (f'\\nEligible Stock = {eligiblestock}')\n",
    "        print (f'\\n*Compare PE to industry average*') #\n",
    "        print ('\\nReasons:')\n",
    "    return warninglist"
   ]
  },
  {
   "cell_type": "code",
   "execution_count": null,
   "metadata": {},
   "outputs": [],
   "source": []
  }
 ],
 "metadata": {
  "kernelspec": {
   "display_name": "Python 3",
   "language": "python",
   "name": "python3"
  },
  "language_info": {
   "codemirror_mode": {
    "name": "ipython",
    "version": 3
   },
   "file_extension": ".py",
   "mimetype": "text/x-python",
   "name": "python",
   "nbconvert_exporter": "python",
   "pygments_lexer": "ipython3",
   "version": "3.7.4"
  }
 },
 "nbformat": 4,
 "nbformat_minor": 2
}
